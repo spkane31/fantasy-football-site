{
 "metadata": {
  "language_info": {
   "codemirror_mode": {
    "name": "ipython",
    "version": 3
   },
   "file_extension": ".py",
   "mimetype": "text/x-python",
   "name": "python",
   "nbconvert_exporter": "python",
   "pygments_lexer": "ipython3",
   "version": "3.8.5-final"
  },
  "orig_nbformat": 2,
  "kernelspec": {
   "name": "python385jvsc74a57bd02aec90d9731d40ba677261ddde9afc1b958e5f4de893519a57aef1c3d3e13044",
   "display_name": "Python 3.8.5 64-bit ('base': conda)"
  }
 },
 "nbformat": 4,
 "nbformat_minor": 2,
 "cells": [
  {
   "cell_type": "code",
   "execution_count": 1,
   "metadata": {},
   "outputs": [],
   "source": [
    "from datetime import datetime\n",
    "import os\n",
    "import bs4\n",
    "from bs4 import BeautifulSoup\n",
    "import pandas as pd\n",
    "\n",
    "from selenium import webdriver\n",
    "from selenium.webdriver.firefox.options import Options\n",
    "from selenium.webdriver.common.by import By\n",
    "from selenium.webdriver.support.ui import WebDriverWait\n",
    "from selenium.webdriver.support import expected_conditions as EC"
   ]
  },
  {
   "cell_type": "code",
   "execution_count": 3,
   "metadata": {},
   "outputs": [],
   "source": [
    "def get_bs(s: bs4.element.Tag) -> BeautifulSoup:\n",
    "    return BeautifulSoup(str(s), 'html.parser')"
   ]
  },
  {
   "cell_type": "code",
   "execution_count": 7,
   "metadata": {},
   "outputs": [],
   "source": [
    "MAIN_2020 = \"https://fantasy.espn.com/football/league/scoreboard?seasonId=2020&leagueId=345674\"\n",
    "MAIN_2019 = \"https://fantasy.espn.com/football/league/scoreboard?seasonId=2019&leagueId=345674\" \n",
    "MAIN_2018 = \"https://fantasy.espn.com/football/league/scoreboard?seasonId=2018&leagueId=345674\"\n",
    "MAIN_2017 = \"https://fantasy.espn.com/football/league/scoreboard?seasonId=2017&leagueId=345674\""
   ]
  },
  {
   "cell_type": "code",
   "execution_count": 9,
   "metadata": {},
   "outputs": [],
   "source": [
    "import requests"
   ]
  },
  {
   "cell_type": "code",
   "execution_count": 1,
   "metadata": {},
   "outputs": [],
   "source": [
    "SWID = \"cf3eab51-0829-4ff2-a81d-2dea916b595c\"\n",
    "ESPN_S2 = \"AECK7%2FdSy110uy1LJjLNEWviSqZafaghXHVFzw4R%2BIOcN9%2FhOojApRtqG%2FvTTFiG61YTFYD5DEOLWPHYyEk%2FyrT0yARf%2FvP7fdbOkSJOCVXWJvVTsUNeOvzCS34v7UDlZ7NwrmfzhEdwqt7W1%2BrmUnbVRH%2Blz20Q6FmRdN3372i08v96ip4MzQQkep%2FU0J0G5mxB1ASmh8ZdfmMbe%2BxwD0Bs6kEViVHD4m71MniuWh0eCkDdH%2BQIUqKuucgSiPDszdPissjj1GBnrlmM6K9gOf3w\"\n",
    "\n",
    "# url = MAIN_2020\n",
    "\n",
    "# r = requests.get(url, cookies={\"swid\": \"{SWID-COOKIE-HERE}\", \"espn_s2\": \"LONG_ESPN_S2_COOKIE_HERE\"})\n",
    "\n"
   ]
  },
  {
   "cell_type": "code",
   "execution_count": 2,
   "metadata": {},
   "outputs": [
    {
     "output_type": "error",
     "ename": "ModuleNotFoundError",
     "evalue": "No module named 'espn_api'",
     "traceback": [
      "\u001b[0;31m---------------------------------------------------------------------------\u001b[0m",
      "\u001b[0;31mModuleNotFoundError\u001b[0m                       Traceback (most recent call last)",
      "\u001b[0;32m<ipython-input-2-29c52b5d02be>\u001b[0m in \u001b[0;36m<module>\u001b[0;34m\u001b[0m\n\u001b[0;32m----> 1\u001b[0;31m \u001b[0;32mfrom\u001b[0m \u001b[0mespn_api\u001b[0m\u001b[0;34m.\u001b[0m\u001b[0mfootball\u001b[0m \u001b[0;32mimport\u001b[0m \u001b[0mLeague\u001b[0m\u001b[0;34m\u001b[0m\u001b[0;34m\u001b[0m\u001b[0m\n\u001b[0m\u001b[1;32m      2\u001b[0m \u001b[0;34m\u001b[0m\u001b[0m\n\u001b[1;32m      3\u001b[0m \u001b[0ml\u001b[0m \u001b[0;34m=\u001b[0m \u001b[0mLeague\u001b[0m\u001b[0;34m(\u001b[0m\u001b[0mleague_id\u001b[0m\u001b[0;34m=\u001b[0m\u001b[0;36m345674\u001b[0m\u001b[0;34m,\u001b[0m \u001b[0myear\u001b[0m\u001b[0;34m=\u001b[0m\u001b[0;36m2020\u001b[0m\u001b[0;34m,\u001b[0m \u001b[0mswid\u001b[0m\u001b[0;34m=\u001b[0m\u001b[0mswid\u001b[0m\u001b[0;34m,\u001b[0m \u001b[0mespn_s2\u001b[0m\u001b[0;34m=\u001b[0m\u001b[0mESPN_S2\u001b[0m\u001b[0;34m)\u001b[0m\u001b[0;34m\u001b[0m\u001b[0;34m\u001b[0m\u001b[0m\n",
      "\u001b[0;31mModuleNotFoundError\u001b[0m: No module named 'espn_api'"
     ]
    }
   ],
   "source": [
    "from espn_api.football import League\n",
    "\n",
    "l = League(league_id=345674, year=2020, swid=swid, espn_s2=ESPN_S2)"
   ]
  }
 ]
}